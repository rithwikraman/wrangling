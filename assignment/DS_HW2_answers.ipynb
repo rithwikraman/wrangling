{
  "cells": [
    {
      "cell_type": "markdown",
      "id": "13ad028b-72b7-43ed-aa78-96fd4e518040",
      "metadata": {
        "id": "13ad028b-72b7-43ed-aa78-96fd4e518040"
      },
      "source": [
        "# Assignment: Data Wrangling\n",
        "## `! git clone https://github.com/DS3001/wrangling`\n",
        "## Do Q2, and one of Q1 or Q3."
      ]
    },
    {
      "cell_type": "markdown",
      "id": "5735a4d4-8be8-433a-a351-70eb8002e632",
      "metadata": {
        "id": "5735a4d4-8be8-433a-a351-70eb8002e632"
      },
      "source": [
        "**Q1.** Open the \"tidy_data.pdf\" document in the repo, which is a paper called Tidy Data by Hadley Wickham.\n",
        "\n",
        "  1. Read the abstract. What is this paper about?\n",
        "\n",
        "This paper is about data tidying and provides a framework to make it easier to tidy messy datasets. The framework this paper provides also makes it easier to develop tidy tools for analysis.  \n",
        "\n",
        "  2. Read the introduction. What is the \"tidy data standard\" intended to accomplish?\n",
        "\n",
        "It is intended to facilitate an initial exploration and analysis of the data, and to simplify the development of data development tools that work well together.\n",
        "\n",
        "  3. Read the intro to section 2. What does this sentence mean: \"Like families, tidy datasets are all alike but every messy dataset is messy in its own way.\" What does this sentence mean: \"For a given dataset, it’s usually easy to figure out what are observations and what are variables, but it is surprisingly difficult to precisely define variables and observations in general.\"\n",
        "\n",
        "The first quote means that tidy datasets provide a standardized approach to combine dataset structure (such as the number of rows and columns) with its meaning. Messy datasets, however, are messy in their own unique ways. Some are missing values, others have duplicate entries, etc.\n",
        "\n",
        "The second quote means that it is difficult to provide a standardized definition of what observations and variables are.\n",
        "\n",
        "  4. Read Section 2.2. How does Wickham define values, variables, and observations?\n",
        "\n",
        "Values are either numbers or strings, organized in two ways: variables and observations.\n",
        "\n",
        "Variables contain all values that measure the same underlying attribute (height, temperature, duration, etc.)\n",
        "\n",
        "Observations contain all values measured on the same unit (person, day, race) across attributes.\n",
        "\n",
        "  5. How is \"Tidy Data\" defined in section 2.3?\n",
        "\n",
        "Tidy Data is defined as: 1) Each variable forms a column. 2) Each observation forms a row, 3) Each type of observational unit forms a table.\n",
        "\n",
        "  6. Read the intro to Section 3 and Section 3.1. What are the 5 most common problems with messy datasets? Why are the data in Table 4 messy? What is \"melting\" a dataset?\n",
        "\n",
        "- Column headers are values, not variable names\n",
        "- Multiple variables are stored in one column\n",
        "- Variables are stored in both rows and columns\n",
        "- Mulptiple types of observational units are stored in the same table\n",
        "- A single observational unit is stored in multiple units\n",
        "\n",
        "\n",
        "  7. Why, specifically, is table 11 messy but table 12 tidy and \"molten\"?\n",
        "\n",
        "Table 11 is messy because it contains missing values in many of the cells. Table 12 fixes this by omitting missing values to save space, but the \"element\" column contains names instead of variables.\n",
        "\n",
        "  8. Read Section 6. What is the \"chicken-and-egg\" problem with focusing on tidy data? What does Wickham hope happens in the future with further work on the subject of data wrangling?\n",
        "\n",
        "If tidy tools is only as useful as the tools that work with it, then tidy tools will be inextricably linked to tidy data. Wickham hopes that long-term, concerted effort will be taken to break out of the \"local maxima\" where \"independently changing data structures or data tools will not improve workflow\". He hopes that others will build on the data tidying framework he has outliend to enhance data storage tools and strategies."
      ]
    },
    {
      "cell_type": "markdown",
      "id": "da879ea7-8aac-48a3-b6c2-daea56d2e072",
      "metadata": {
        "id": "da879ea7-8aac-48a3-b6c2-daea56d2e072"
      },
      "source": [
        "**Q2.** This question provides some practice cleaning variables which have common problems.\n",
        "1. Numeric variable: For `./data/airbnb_hw.csv`, clean the `Price` variable as well as you can, and explain the choices you make. How many missing values do you end up with? (Hint: What happens to the formatting when a price goes over 999 dollars, say from 675 to 1,112?)\n",
        "\n",
        "\n",
        "\n",
        "\n",
        "2. Categorical variable: For the `./data/sharks.csv` data covered in the lecture, clean the \"Type\" variable as well as you can, and explain the choices you make.\n",
        "3. Dummy variable: For the pretrial data covered in the lecture, clean the `WhetherDefendantWasReleasedPretrial` variable as well as you can, and, in particular, replace missing values with `np.nan`.\n",
        "4. Missing values, not at random: For the pretrial data covered in the lecture, clean the `ImposedSentenceAllChargeInContactEvent` variable as well as you can, and explain the choices you make. (Hint: Look at the `SentenceTypeAllChargesAtConvictionInContactEvent` variable.)"
      ]
    },
    {
      "cell_type": "code",
      "source": [
        "import pandas as pd\n",
        "import numpy as np\n",
        "import seaborn as sns\n",
        "import os\n",
        "\n",
        "! git clone https://github.com/DS3001/wrangling\n",
        "\n",
        "# Question 2.1\n",
        "data = pd.read_csv('wrangling/assignment/data/airbnb_hw.csv', low_memory = False)\n",
        "price = data['Price']\n",
        "price = price.str.replace(',','') # replacing cells with just comma to blank cells\n",
        "price = pd.to_numeric(price,errors='coerce') # converting string values to float/numeric\n",
        "print('Number of missing cells: ', sum(price.isnull()))"
      ],
      "metadata": {
        "colab": {
          "base_uri": "https://localhost:8080/"
        },
        "id": "ThR0evQ4xEhx",
        "outputId": "15cb74f5-2527-4bba-8f6f-d17985041593"
      },
      "id": "ThR0evQ4xEhx",
      "execution_count": 14,
      "outputs": [
        {
          "output_type": "stream",
          "name": "stdout",
          "text": [
            "fatal: destination path 'wrangling' already exists and is not an empty directory.\n",
            "Number of missing cells:  0\n"
          ]
        }
      ]
    },
    {
      "cell_type": "code",
      "source": [
        "# Question 2.2\n",
        "data = pd.read_csv('wrangling/assignment/data/sharks.csv', low_memory = False)\n",
        "data['Type'].value_counts()\n",
        "type = data['Type']\n",
        "type = type.replace(['Sea Disaster', 'Boat','Boating','Boatomg'],'Watercraft') # consolodiating all watercraft-related incidents\n",
        "type.value_counts()\n",
        "type = type.replace(['Invalid', 'Questionable','Unconfirmed','Unverified','Under investigation'],np.nan) # replace invalid data with NA\n",
        "type.value_counts()\n",
        "\n",
        "data['Type'] = type\n",
        "del type\n",
        "data['Type'].value_counts()"
      ],
      "metadata": {
        "colab": {
          "base_uri": "https://localhost:8080/"
        },
        "id": "dQGecOoUtSI5",
        "outputId": "b5e3499a-fd17-49f8-b1b9-88ab10f7f11e"
      },
      "id": "dQGecOoUtSI5",
      "execution_count": 23,
      "outputs": [
        {
          "output_type": "execute_result",
          "data": {
            "text/plain": [
              "Unprovoked    4716\n",
              "Provoked       593\n",
              "Watercraft     583\n",
              "Name: Type, dtype: int64"
            ]
          },
          "metadata": {},
          "execution_count": 23
        }
      ]
    },
    {
      "cell_type": "code",
      "source": [
        "# Question 2.3\n",
        "data = pd.read_csv('/content/wrangling/data/2017_pretrial.csv', low_memory=False)\n",
        "released = data['WhetherDefendantWasReleasedPretrial']\n",
        "print(released.unique(),'\\n')\n",
        "print(released.value_counts(),'\\n')\n",
        "released = released.replace(9,np.nan) # 9's are defined as \"unclear\"\n",
        "sum(released.isnull()) # 26 missing values\n",
        "data['WhetherDefendantWasReleasedPretrial'] = released\n",
        "del released"
      ],
      "metadata": {
        "colab": {
          "base_uri": "https://localhost:8080/"
        },
        "id": "3vvIYwVb1RuW",
        "outputId": "199e8c91-edfb-460c-c3b4-797f4b45f6f1"
      },
      "id": "3vvIYwVb1RuW",
      "execution_count": 35,
      "outputs": [
        {
          "output_type": "stream",
          "name": "stdout",
          "text": [
            "[9 0 1] \n",
            "\n",
            "1    11907\n",
            "0     3571\n",
            "9       26\n",
            "Name: WhetherDefendantWasReleasedPretrial, dtype: int64 \n",
            "\n"
          ]
        }
      ]
    },
    {
      "cell_type": "code",
      "source": [
        "# Question 2.4\n",
        "data = pd.read_csv('/content/wrangling/data/2017_pretrial.csv', low_memory=False)\n",
        "len = data['ImposedSentenceAllChargeInContactEvent']\n",
        "type = data['SentenceTypeAllChargesAtConvictionInContactEvent']\n",
        "len = pd.to_numeric(len,errors='coerce') # converting all valoues to numeric\n",
        "na_len = len.isnull() # dummy value\n",
        "print( np.sum(na_len),'\\n') # 5k missing values -- really bad\n",
        "len = len.mask(type==4, 0)\n",
        "len = len.mask(type==9, np.nan)\n",
        "na_len = len.isnull() # another dummy\n",
        "print( np.sum(na_len),'\\n') # only 132\n",
        "data['ImposedSentenceAllChargeInContactEvent'] = len # replace with cleaned version\n",
        "del len, type"
      ],
      "metadata": {
        "colab": {
          "base_uri": "https://localhost:8080/"
        },
        "id": "NENi__eP9nHH",
        "outputId": "86dab8ac-67fb-443c-af31-125d6e111ad7"
      },
      "id": "NENi__eP9nHH",
      "execution_count": 39,
      "outputs": [
        {
          "output_type": "stream",
          "name": "stdout",
          "text": [
            "5492 \n",
            "\n",
            "132 \n",
            "\n"
          ]
        }
      ]
    },
    {
      "cell_type": "markdown",
      "id": "649494cd-cfd6-4f80-992a-9994fc19e1d5",
      "metadata": {
        "id": "649494cd-cfd6-4f80-992a-9994fc19e1d5"
      },
      "source": [
        "**Q3.** Many important datasets contain a race variable, typically limited to a handful of values often including Black, White, Asian, Latino, and Indigenous. This question looks at data gathering efforts on this variable by the U.S. Federal government.\n",
        "\n",
        "1. How did the most recent US Census gather data on race?\n",
        "2. Why do we gather these data? What role do these kinds of data play in politics and society? Why does data quality matter?\n",
        "3. Please provide a constructive criticism of how the Census was conducted: What was done well? What do you think was missing? How should future large scale surveys be adjusted to best reflect the diversity of the population? Could some of the Census' good practices be adopted more widely to gather richer and more useful data?\n",
        "4. How did the Census gather data on sex and gender? Please provide a similar constructive criticism of their practices.\n",
        "5. When it comes to cleaning data, what concerns do you have about protected characteristics like sex, gender, sexual identity, or race? What challenges can you imagine arising when there are missing values? What good or bad practices might people adopt, and why?\n",
        "6. Suppose someone invented an algorithm to impute values for protected characteristics like race, gender, sex, or sexuality. What kinds of concerns would you have?"
      ]
    }
  ],
  "metadata": {
    "colab": {
      "provenance": []
    },
    "kernelspec": {
      "display_name": "Python 3 (ipykernel)",
      "language": "python",
      "name": "python3"
    },
    "language_info": {
      "codemirror_mode": {
        "name": "ipython",
        "version": 3
      },
      "file_extension": ".py",
      "mimetype": "text/x-python",
      "name": "python",
      "nbconvert_exporter": "python",
      "pygments_lexer": "ipython3",
      "version": "3.10.4"
    }
  },
  "nbformat": 4,
  "nbformat_minor": 5
}